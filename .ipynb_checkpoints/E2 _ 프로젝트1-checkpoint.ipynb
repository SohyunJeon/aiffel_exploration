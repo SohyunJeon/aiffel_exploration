{
 "cells": [
  {
   "cell_type": "markdown",
   "id": "e1e27e21",
   "metadata": {},
   "source": [
    "# 당뇨병 수치\n"
   ]
  },
  {
   "cell_type": "code",
   "execution_count": 70,
   "id": "170d0ed9",
   "metadata": {},
   "outputs": [],
   "source": [
    "import numpy as np\n",
    "import pandas as pd\n",
    "\n",
    "import matplotlib.pyplot as plt\n",
    "from sklearn.datasets import load_diabetes\n",
    "from sklearn.model_selection import train_test_split\n",
    "import seaborn as sns"
   ]
  },
  {
   "cell_type": "markdown",
   "id": "ea6a4633",
   "metadata": {},
   "source": [
    "### (1) 데이터 가져오기"
   ]
  },
  {
   "cell_type": "code",
   "execution_count": 8,
   "id": "6289aff5",
   "metadata": {},
   "outputs": [],
   "source": [
    "\n",
    "\n",
    "diabetes = load_diabetes()"
   ]
  },
  {
   "cell_type": "code",
   "execution_count": 9,
   "id": "4a35e4ad",
   "metadata": {},
   "outputs": [],
   "source": [
    "df_X = diabetes['data']\n",
    "df_y = diabetes['target']"
   ]
  },
  {
   "cell_type": "code",
   "execution_count": 10,
   "id": "b635d370",
   "metadata": {},
   "outputs": [
    {
     "data": {
      "text/plain": [
       "numpy.ndarray"
      ]
     },
     "execution_count": 10,
     "metadata": {},
     "output_type": "execute_result"
    }
   ],
   "source": [
    "type(df_X)"
   ]
  },
  {
   "cell_type": "code",
   "execution_count": 5,
   "id": "b7f60d9d",
   "metadata": {},
   "outputs": [
    {
     "data": {
      "text/plain": [
       "numpy.ndarray"
      ]
     },
     "execution_count": 5,
     "metadata": {},
     "output_type": "execute_result"
    }
   ],
   "source": [
    "type(df_y)"
   ]
  },
  {
   "cell_type": "markdown",
   "id": "7d621a9b",
   "metadata": {},
   "source": [
    "### (4) train 데이터와 test 데이터로 분리하기"
   ]
  },
  {
   "cell_type": "code",
   "execution_count": 11,
   "id": "624f4da9",
   "metadata": {},
   "outputs": [],
   "source": [
    "\n",
    "X_train, X_test, y_train, y_test = train_test_split(df_X, df_y, test_size=0.2, random_state=42)"
   ]
  },
  {
   "cell_type": "code",
   "execution_count": 12,
   "id": "7c340529",
   "metadata": {},
   "outputs": [
    {
     "data": {
      "text/plain": [
       "(353, 10)"
      ]
     },
     "execution_count": 12,
     "metadata": {},
     "output_type": "execute_result"
    }
   ],
   "source": [
    "X_train.shape"
   ]
  },
  {
   "cell_type": "markdown",
   "id": "f7625636",
   "metadata": {},
   "source": [
    "### (5) 모델 준비하기"
   ]
  },
  {
   "cell_type": "code",
   "execution_count": 114,
   "id": "0d040de1",
   "metadata": {},
   "outputs": [],
   "source": [
    "\n",
    "# def model(X, W, b):\n",
    "#     predictions = X.dot(W) + b\n",
    "#     return predictions\n",
    "\n",
    "def model(X, W, b):\n",
    "    predictions = 0\n",
    "    cols = X.shape[1]\n",
    "    for i in range(cols):\n",
    "        predictions += X[:, i]* W[i]\n",
    "    predictions += b\n",
    "    return predictions"
   ]
  },
  {
   "cell_type": "markdown",
   "id": "4587fd83",
   "metadata": {},
   "source": [
    "### (6) 손실함수 loss 정의하기"
   ]
  },
  {
   "cell_type": "code",
   "execution_count": 115,
   "id": "cb8ba9bb",
   "metadata": {},
   "outputs": [],
   "source": [
    "def MSE(a, b):\n",
    "    mse = ((a - b)**2).mean()\n",
    "    return mse\n",
    "\n",
    "def loss(X, W, b, y):\n",
    "    preds = model(X, W, b)\n",
    "    mse = MSE(preds, y)\n",
    "    return mse\n",
    "    "
   ]
  },
  {
   "cell_type": "markdown",
   "id": "1ed3f04b",
   "metadata": {},
   "source": [
    "### (7) 기울기를 구하는 gradient 함수 구현하기"
   ]
  },
  {
   "cell_type": "code",
   "execution_count": 116,
   "id": "cc601c5e",
   "metadata": {},
   "outputs": [],
   "source": [
    "def gradient(X, W, b, y):\n",
    "    N = len(y)\n",
    "    predictions = model(X, W, b)\n",
    "    dW = 1/N * 2 * X.T.dot(predictions - y)\n",
    "    db = 2 * (predictions - y).mean()\n",
    "    return dW, db\n",
    "    \n",
    "    "
   ]
  },
  {
   "cell_type": "markdown",
   "id": "db491192",
   "metadata": {},
   "source": [
    "### (8) 하이퍼 파라미터인 학습률 설정하기"
   ]
  },
  {
   "cell_type": "code",
   "execution_count": 123,
   "id": "675a5dd8",
   "metadata": {},
   "outputs": [],
   "source": [
    "LEARNING_RATE = 0.001\n",
    "# W, b, 초기화\n",
    "col_n = X_train.shape[1]\n",
    "W = np.random.rand(col_n)\n",
    "b = np.random.rand()"
   ]
  },
  {
   "cell_type": "markdown",
   "id": "d2731323",
   "metadata": {},
   "source": [
    "### (9) 모델 학습하기"
   ]
  },
  {
   "cell_type": "code",
   "execution_count": 124,
   "id": "627626de",
   "metadata": {},
   "outputs": [
    {
     "name": "stdout",
     "output_type": "stream",
     "text": [
      "Iteration 100 : Loss 2e+04\n",
      "Iteration 200 : Loss 2e+04\n",
      "Iteration 300 : Loss 1e+04\n",
      "Iteration 400 : Loss 1e+04\n",
      "Iteration 500 : Loss 9e+03\n",
      "Iteration 600 : Loss 8e+03\n",
      "Iteration 700 : Loss 7e+03\n",
      "Iteration 800 : Loss 7e+03\n",
      "Iteration 900 : Loss 7e+03\n",
      "Iteration 1000 : Loss 6e+03\n",
      "Iteration 1100 : Loss 6e+03\n",
      "Iteration 1200 : Loss 6e+03\n",
      "Iteration 1300 : Loss 6e+03\n",
      "Iteration 1400 : Loss 6e+03\n",
      "Iteration 1500 : Loss 6e+03\n",
      "Iteration 1600 : Loss 6e+03\n",
      "Iteration 1700 : Loss 6e+03\n",
      "Iteration 1800 : Loss 6e+03\n",
      "Iteration 1900 : Loss 6e+03\n",
      "Iteration 2000 : Loss 6e+03\n",
      "Iteration 2100 : Loss 6e+03\n",
      "Iteration 2200 : Loss 6e+03\n",
      "Iteration 2300 : Loss 6e+03\n",
      "Iteration 2400 : Loss 6e+03\n",
      "Iteration 2500 : Loss 6e+03\n",
      "Iteration 2600 : Loss 6e+03\n",
      "Iteration 2700 : Loss 6e+03\n",
      "Iteration 2800 : Loss 6e+03\n",
      "Iteration 2900 : Loss 6e+03\n",
      "Iteration 3000 : Loss 6e+03\n",
      "Iteration 3100 : Loss 6e+03\n",
      "Iteration 3200 : Loss 6e+03\n",
      "Iteration 3300 : Loss 6e+03\n",
      "Iteration 3400 : Loss 6e+03\n",
      "Iteration 3500 : Loss 6e+03\n",
      "Iteration 3600 : Loss 6e+03\n",
      "Iteration 3700 : Loss 6e+03\n",
      "Iteration 3800 : Loss 6e+03\n",
      "Iteration 3900 : Loss 6e+03\n",
      "Iteration 4000 : Loss 6e+03\n",
      "Iteration 4100 : Loss 6e+03\n",
      "Iteration 4200 : Loss 6e+03\n",
      "Iteration 4300 : Loss 6e+03\n",
      "Iteration 4400 : Loss 6e+03\n",
      "Iteration 4500 : Loss 6e+03\n",
      "Iteration 4600 : Loss 6e+03\n",
      "Iteration 4700 : Loss 6e+03\n",
      "Iteration 4800 : Loss 6e+03\n",
      "Iteration 4900 : Loss 6e+03\n",
      "Iteration 5000 : Loss 6e+03\n",
      "Iteration 5100 : Loss 6e+03\n",
      "Iteration 5200 : Loss 6e+03\n",
      "Iteration 5300 : Loss 6e+03\n",
      "Iteration 5400 : Loss 6e+03\n",
      "Iteration 5500 : Loss 6e+03\n",
      "Iteration 5600 : Loss 6e+03\n",
      "Iteration 5700 : Loss 6e+03\n",
      "Iteration 5800 : Loss 6e+03\n",
      "Iteration 5900 : Loss 6e+03\n",
      "Iteration 6000 : Loss 6e+03\n",
      "Iteration 6100 : Loss 6e+03\n",
      "Iteration 6200 : Loss 6e+03\n",
      "Iteration 6300 : Loss 6e+03\n",
      "Iteration 6400 : Loss 6e+03\n",
      "Iteration 6500 : Loss 6e+03\n",
      "Iteration 6600 : Loss 6e+03\n",
      "Iteration 6700 : Loss 6e+03\n",
      "Iteration 6800 : Loss 6e+03\n",
      "Iteration 6900 : Loss 6e+03\n",
      "Iteration 7000 : Loss 6e+03\n",
      "Iteration 7100 : Loss 6e+03\n",
      "Iteration 7200 : Loss 6e+03\n",
      "Iteration 7300 : Loss 6e+03\n",
      "Iteration 7400 : Loss 6e+03\n",
      "Iteration 7500 : Loss 6e+03\n",
      "Iteration 7600 : Loss 6e+03\n",
      "Iteration 7700 : Loss 6e+03\n",
      "Iteration 7800 : Loss 6e+03\n",
      "Iteration 7900 : Loss 6e+03\n",
      "Iteration 8000 : Loss 6e+03\n",
      "Iteration 8100 : Loss 5e+03\n",
      "Iteration 8200 : Loss 5e+03\n",
      "Iteration 8300 : Loss 5e+03\n",
      "Iteration 8400 : Loss 5e+03\n",
      "Iteration 8500 : Loss 5e+03\n",
      "Iteration 8600 : Loss 5e+03\n",
      "Iteration 8700 : Loss 5e+03\n",
      "Iteration 8800 : Loss 5e+03\n",
      "Iteration 8900 : Loss 5e+03\n",
      "Iteration 9000 : Loss 5e+03\n",
      "Iteration 9100 : Loss 5e+03\n",
      "Iteration 9200 : Loss 5e+03\n",
      "Iteration 9300 : Loss 5e+03\n",
      "Iteration 9400 : Loss 5e+03\n",
      "Iteration 9500 : Loss 5e+03\n",
      "Iteration 9600 : Loss 5e+03\n",
      "Iteration 9700 : Loss 5e+03\n",
      "Iteration 9800 : Loss 5e+03\n",
      "Iteration 9900 : Loss 5e+03\n",
      "Iteration 10000 : Loss 5e+03\n",
      "Iteration 10100 : Loss 5e+03\n",
      "Iteration 10200 : Loss 5e+03\n",
      "Iteration 10300 : Loss 5e+03\n",
      "Iteration 10400 : Loss 5e+03\n",
      "Iteration 10500 : Loss 5e+03\n",
      "Iteration 10600 : Loss 5e+03\n",
      "Iteration 10700 : Loss 5e+03\n",
      "Iteration 10800 : Loss 5e+03\n",
      "Iteration 10900 : Loss 5e+03\n",
      "Iteration 11000 : Loss 5e+03\n",
      "Iteration 11100 : Loss 5e+03\n",
      "Iteration 11200 : Loss 5e+03\n",
      "Iteration 11300 : Loss 5e+03\n",
      "Iteration 11400 : Loss 5e+03\n",
      "Iteration 11500 : Loss 5e+03\n",
      "Iteration 11600 : Loss 5e+03\n",
      "Iteration 11700 : Loss 5e+03\n",
      "Iteration 11800 : Loss 5e+03\n",
      "Iteration 11900 : Loss 5e+03\n",
      "Iteration 12000 : Loss 5e+03\n",
      "Iteration 12100 : Loss 5e+03\n",
      "Iteration 12200 : Loss 5e+03\n",
      "Iteration 12300 : Loss 5e+03\n",
      "Iteration 12400 : Loss 5e+03\n",
      "Iteration 12500 : Loss 5e+03\n",
      "Iteration 12600 : Loss 5e+03\n",
      "Iteration 12700 : Loss 5e+03\n",
      "Iteration 12800 : Loss 5e+03\n",
      "Iteration 12900 : Loss 5e+03\n",
      "Iteration 13000 : Loss 5e+03\n",
      "Iteration 13100 : Loss 5e+03\n",
      "Iteration 13200 : Loss 5e+03\n",
      "Iteration 13300 : Loss 5e+03\n",
      "Iteration 13400 : Loss 5e+03\n",
      "Iteration 13500 : Loss 5e+03\n",
      "Iteration 13600 : Loss 5e+03\n",
      "Iteration 13700 : Loss 5e+03\n",
      "Iteration 13800 : Loss 5e+03\n",
      "Iteration 13900 : Loss 5e+03\n",
      "Iteration 14000 : Loss 5e+03\n",
      "Iteration 14100 : Loss 5e+03\n",
      "Iteration 14200 : Loss 5e+03\n",
      "Iteration 14300 : Loss 5e+03\n",
      "Iteration 14400 : Loss 5e+03\n",
      "Iteration 14500 : Loss 5e+03\n",
      "Iteration 14600 : Loss 5e+03\n",
      "Iteration 14700 : Loss 5e+03\n",
      "Iteration 14800 : Loss 5e+03\n",
      "Iteration 14900 : Loss 5e+03\n",
      "Iteration 15000 : Loss 5e+03\n",
      "Iteration 15100 : Loss 5e+03\n",
      "Iteration 15200 : Loss 5e+03\n",
      "Iteration 15300 : Loss 5e+03\n",
      "Iteration 15400 : Loss 5e+03\n",
      "Iteration 15500 : Loss 5e+03\n",
      "Iteration 15600 : Loss 5e+03\n",
      "Iteration 15700 : Loss 5e+03\n",
      "Iteration 15800 : Loss 5e+03\n",
      "Iteration 15900 : Loss 5e+03\n",
      "Iteration 16000 : Loss 5e+03\n",
      "Iteration 16100 : Loss 5e+03\n",
      "Iteration 16200 : Loss 5e+03\n",
      "Iteration 16300 : Loss 5e+03\n",
      "Iteration 16400 : Loss 5e+03\n",
      "Iteration 16500 : Loss 5e+03\n",
      "Iteration 16600 : Loss 5e+03\n",
      "Iteration 16700 : Loss 5e+03\n",
      "Iteration 16800 : Loss 5e+03\n",
      "Iteration 16900 : Loss 5e+03\n",
      "Iteration 17000 : Loss 5e+03\n",
      "Iteration 17100 : Loss 5e+03\n",
      "Iteration 17200 : Loss 5e+03\n",
      "Iteration 17300 : Loss 5e+03\n",
      "Iteration 17400 : Loss 5e+03\n",
      "Iteration 17500 : Loss 5e+03\n",
      "Iteration 17600 : Loss 5e+03\n",
      "Iteration 17700 : Loss 5e+03\n",
      "Iteration 17800 : Loss 5e+03\n",
      "Iteration 17900 : Loss 5e+03\n",
      "Iteration 18000 : Loss 5e+03\n",
      "Iteration 18100 : Loss 5e+03\n",
      "Iteration 18200 : Loss 5e+03\n",
      "Iteration 18300 : Loss 5e+03\n",
      "Iteration 18400 : Loss 5e+03\n",
      "Iteration 18500 : Loss 5e+03\n",
      "Iteration 18600 : Loss 5e+03\n",
      "Iteration 18700 : Loss 5e+03\n",
      "Iteration 18800 : Loss 5e+03\n",
      "Iteration 18900 : Loss 5e+03\n",
      "Iteration 19000 : Loss 5e+03\n",
      "Iteration 19100 : Loss 5e+03\n",
      "Iteration 19200 : Loss 5e+03\n",
      "Iteration 19300 : Loss 5e+03\n",
      "Iteration 19400 : Loss 5e+03\n",
      "Iteration 19500 : Loss 5e+03\n",
      "Iteration 19600 : Loss 5e+03\n",
      "Iteration 19700 : Loss 5e+03\n",
      "Iteration 19800 : Loss 5e+03\n",
      "Iteration 19900 : Loss 5e+03\n",
      "Iteration 20000 : Loss 5e+03\n",
      "Iteration 20100 : Loss 5e+03\n",
      "Iteration 20200 : Loss 5e+03\n",
      "Iteration 20300 : Loss 5e+03\n",
      "Iteration 20400 : Loss 5e+03\n",
      "Iteration 20500 : Loss 5e+03\n",
      "Iteration 20600 : Loss 5e+03\n",
      "Iteration 20700 : Loss 5e+03\n",
      "Iteration 20800 : Loss 5e+03\n",
      "Iteration 20900 : Loss 5e+03\n",
      "Iteration 21000 : Loss 5e+03\n",
      "Iteration 21100 : Loss 5e+03\n",
      "Iteration 21200 : Loss 5e+03\n",
      "Iteration 21300 : Loss 5e+03\n",
      "Iteration 21400 : Loss 5e+03\n",
      "Iteration 21500 : Loss 5e+03\n",
      "Iteration 21600 : Loss 5e+03\n",
      "Iteration 21700 : Loss 5e+03\n",
      "Iteration 21800 : Loss 5e+03\n",
      "Iteration 21900 : Loss 5e+03\n",
      "Iteration 22000 : Loss 5e+03\n",
      "Iteration 22100 : Loss 5e+03\n",
      "Iteration 22200 : Loss 5e+03\n",
      "Iteration 22300 : Loss 5e+03\n",
      "Iteration 22400 : Loss 5e+03\n",
      "Iteration 22500 : Loss 5e+03\n",
      "Iteration 22600 : Loss 5e+03\n",
      "Iteration 22700 : Loss 5e+03\n",
      "Iteration 22800 : Loss 5e+03\n",
      "Iteration 22900 : Loss 5e+03\n",
      "Iteration 23000 : Loss 5e+03\n",
      "Iteration 23100 : Loss 5e+03\n",
      "Iteration 23200 : Loss 5e+03\n",
      "Iteration 23300 : Loss 5e+03\n",
      "Iteration 23400 : Loss 5e+03\n",
      "Iteration 23500 : Loss 5e+03\n",
      "Iteration 23600 : Loss 5e+03\n",
      "Iteration 23700 : Loss 5e+03\n",
      "Iteration 23800 : Loss 5e+03\n",
      "Iteration 23900 : Loss 5e+03\n",
      "Iteration 24000 : Loss 5e+03\n",
      "Iteration 24100 : Loss 5e+03\n",
      "Iteration 24200 : Loss 5e+03\n",
      "Iteration 24300 : Loss 5e+03\n",
      "Iteration 24400 : Loss 5e+03\n",
      "Iteration 24500 : Loss 5e+03\n",
      "Iteration 24600 : Loss 5e+03\n",
      "Iteration 24700 : Loss 5e+03\n",
      "Iteration 24800 : Loss 5e+03\n",
      "Iteration 24900 : Loss 5e+03\n",
      "Iteration 25000 : Loss 5e+03\n",
      "Iteration 25100 : Loss 5e+03\n",
      "Iteration 25200 : Loss 5e+03\n",
      "Iteration 25300 : Loss 5e+03\n",
      "Iteration 25400 : Loss 5e+03\n",
      "Iteration 25500 : Loss 5e+03\n",
      "Iteration 25600 : Loss 5e+03\n",
      "Iteration 25700 : Loss 5e+03\n",
      "Iteration 25800 : Loss 5e+03\n",
      "Iteration 25900 : Loss 5e+03\n",
      "Iteration 26000 : Loss 5e+03\n",
      "Iteration 26100 : Loss 5e+03\n",
      "Iteration 26200 : Loss 5e+03\n",
      "Iteration 26300 : Loss 5e+03\n",
      "Iteration 26400 : Loss 5e+03\n",
      "Iteration 26500 : Loss 5e+03\n",
      "Iteration 26600 : Loss 5e+03\n",
      "Iteration 26700 : Loss 5e+03\n",
      "Iteration 26800 : Loss 5e+03\n",
      "Iteration 26900 : Loss 5e+03\n",
      "Iteration 27000 : Loss 5e+03\n",
      "Iteration 27100 : Loss 5e+03\n",
      "Iteration 27200 : Loss 5e+03\n",
      "Iteration 27300 : Loss 5e+03\n",
      "Iteration 27400 : Loss 5e+03\n",
      "Iteration 27500 : Loss 5e+03\n",
      "Iteration 27600 : Loss 5e+03\n",
      "Iteration 27700 : Loss 5e+03\n",
      "Iteration 27800 : Loss 5e+03\n",
      "Iteration 27900 : Loss 5e+03\n",
      "Iteration 28000 : Loss 5e+03\n",
      "Iteration 28100 : Loss 5e+03\n",
      "Iteration 28200 : Loss 5e+03\n",
      "Iteration 28300 : Loss 5e+03\n",
      "Iteration 28400 : Loss 5e+03\n",
      "Iteration 28500 : Loss 5e+03\n",
      "Iteration 28600 : Loss 5e+03\n",
      "Iteration 28700 : Loss 5e+03\n",
      "Iteration 28800 : Loss 5e+03\n",
      "Iteration 28900 : Loss 5e+03\n",
      "Iteration 29000 : Loss 5e+03\n",
      "Iteration 29100 : Loss 5e+03\n",
      "Iteration 29200 : Loss 5e+03\n",
      "Iteration 29300 : Loss 5e+03\n",
      "Iteration 29400 : Loss 5e+03\n",
      "Iteration 29500 : Loss 5e+03\n",
      "Iteration 29600 : Loss 5e+03\n"
     ]
    },
    {
     "name": "stdout",
     "output_type": "stream",
     "text": [
      "Iteration 29700 : Loss 5e+03\n",
      "Iteration 29800 : Loss 5e+03\n",
      "Iteration 29900 : Loss 5e+03\n",
      "Iteration 30000 : Loss 5e+03\n",
      "Iteration 30100 : Loss 5e+03\n",
      "Iteration 30200 : Loss 4e+03\n",
      "Iteration 30300 : Loss 4e+03\n",
      "Iteration 30400 : Loss 4e+03\n",
      "Iteration 30500 : Loss 4e+03\n",
      "Iteration 30600 : Loss 4e+03\n",
      "Iteration 30700 : Loss 4e+03\n",
      "Iteration 30800 : Loss 4e+03\n",
      "Iteration 30900 : Loss 4e+03\n",
      "Iteration 31000 : Loss 4e+03\n",
      "Iteration 31100 : Loss 4e+03\n",
      "Iteration 31200 : Loss 4e+03\n",
      "Iteration 31300 : Loss 4e+03\n",
      "Iteration 31400 : Loss 4e+03\n",
      "Iteration 31500 : Loss 4e+03\n",
      "Iteration 31600 : Loss 4e+03\n",
      "Iteration 31700 : Loss 4e+03\n",
      "Iteration 31800 : Loss 4e+03\n",
      "Iteration 31900 : Loss 4e+03\n",
      "Iteration 32000 : Loss 4e+03\n",
      "Iteration 32100 : Loss 4e+03\n",
      "Iteration 32200 : Loss 4e+03\n",
      "Iteration 32300 : Loss 4e+03\n",
      "Iteration 32400 : Loss 4e+03\n",
      "Iteration 32500 : Loss 4e+03\n",
      "Iteration 32600 : Loss 4e+03\n",
      "Iteration 32700 : Loss 4e+03\n",
      "Iteration 32800 : Loss 4e+03\n",
      "Iteration 32900 : Loss 4e+03\n",
      "Iteration 33000 : Loss 4e+03\n",
      "Iteration 33100 : Loss 4e+03\n",
      "Iteration 33200 : Loss 4e+03\n",
      "Iteration 33300 : Loss 4e+03\n",
      "Iteration 33400 : Loss 4e+03\n",
      "Iteration 33500 : Loss 4e+03\n",
      "Iteration 33600 : Loss 4e+03\n",
      "Iteration 33700 : Loss 4e+03\n",
      "Iteration 33800 : Loss 4e+03\n",
      "Iteration 33900 : Loss 4e+03\n",
      "Iteration 34000 : Loss 4e+03\n",
      "Iteration 34100 : Loss 4e+03\n",
      "Iteration 34200 : Loss 4e+03\n",
      "Iteration 34300 : Loss 4e+03\n",
      "Iteration 34400 : Loss 4e+03\n",
      "Iteration 34500 : Loss 4e+03\n",
      "Iteration 34600 : Loss 4e+03\n",
      "Iteration 34700 : Loss 4e+03\n",
      "Iteration 34800 : Loss 4e+03\n",
      "Iteration 34900 : Loss 4e+03\n",
      "Iteration 35000 : Loss 4e+03\n",
      "Iteration 35100 : Loss 4e+03\n",
      "Iteration 35200 : Loss 4e+03\n",
      "Iteration 35300 : Loss 4e+03\n",
      "Iteration 35400 : Loss 4e+03\n",
      "Iteration 35500 : Loss 4e+03\n",
      "Iteration 35600 : Loss 4e+03\n",
      "Iteration 35700 : Loss 4e+03\n",
      "Iteration 35800 : Loss 4e+03\n",
      "Iteration 35900 : Loss 4e+03\n",
      "Iteration 36000 : Loss 4e+03\n",
      "Iteration 36100 : Loss 4e+03\n",
      "Iteration 36200 : Loss 4e+03\n",
      "Iteration 36300 : Loss 4e+03\n",
      "Iteration 36400 : Loss 4e+03\n",
      "Iteration 36500 : Loss 4e+03\n",
      "Iteration 36600 : Loss 4e+03\n",
      "Iteration 36700 : Loss 4e+03\n",
      "Iteration 36800 : Loss 4e+03\n",
      "Iteration 36900 : Loss 4e+03\n",
      "Iteration 37000 : Loss 4e+03\n",
      "Iteration 37100 : Loss 4e+03\n",
      "Iteration 37200 : Loss 4e+03\n",
      "Iteration 37300 : Loss 4e+03\n",
      "Iteration 37400 : Loss 4e+03\n",
      "Iteration 37500 : Loss 4e+03\n",
      "Iteration 37600 : Loss 4e+03\n",
      "Iteration 37700 : Loss 4e+03\n",
      "Iteration 37800 : Loss 4e+03\n",
      "Iteration 37900 : Loss 4e+03\n",
      "Iteration 38000 : Loss 4e+03\n",
      "Iteration 38100 : Loss 4e+03\n",
      "Iteration 38200 : Loss 4e+03\n",
      "Iteration 38300 : Loss 4e+03\n",
      "Iteration 38400 : Loss 4e+03\n",
      "Iteration 38500 : Loss 4e+03\n",
      "Iteration 38600 : Loss 4e+03\n",
      "Iteration 38700 : Loss 4e+03\n",
      "Iteration 38800 : Loss 4e+03\n",
      "Iteration 38900 : Loss 4e+03\n",
      "Iteration 39000 : Loss 4e+03\n",
      "Iteration 39100 : Loss 4e+03\n",
      "Iteration 39200 : Loss 4e+03\n",
      "Iteration 39300 : Loss 4e+03\n",
      "Iteration 39400 : Loss 4e+03\n",
      "Iteration 39500 : Loss 4e+03\n",
      "Iteration 39600 : Loss 4e+03\n",
      "Iteration 39700 : Loss 4e+03\n",
      "Iteration 39800 : Loss 4e+03\n",
      "Iteration 39900 : Loss 4e+03\n",
      "Iteration 40000 : Loss 4e+03\n",
      "Iteration 40100 : Loss 4e+03\n",
      "Iteration 40200 : Loss 4e+03\n",
      "Iteration 40300 : Loss 4e+03\n",
      "Iteration 40400 : Loss 4e+03\n",
      "Iteration 40500 : Loss 4e+03\n",
      "Iteration 40600 : Loss 4e+03\n",
      "Iteration 40700 : Loss 4e+03\n",
      "Iteration 40800 : Loss 4e+03\n",
      "Iteration 40900 : Loss 4e+03\n",
      "Iteration 41000 : Loss 4e+03\n",
      "Iteration 41100 : Loss 4e+03\n",
      "Iteration 41200 : Loss 4e+03\n",
      "Iteration 41300 : Loss 4e+03\n",
      "Iteration 41400 : Loss 4e+03\n",
      "Iteration 41500 : Loss 4e+03\n",
      "Iteration 41600 : Loss 4e+03\n",
      "Iteration 41700 : Loss 4e+03\n",
      "Iteration 41800 : Loss 4e+03\n",
      "Iteration 41900 : Loss 4e+03\n",
      "Iteration 42000 : Loss 4e+03\n",
      "Iteration 42100 : Loss 4e+03\n",
      "Iteration 42200 : Loss 4e+03\n",
      "Iteration 42300 : Loss 4e+03\n",
      "Iteration 42400 : Loss 4e+03\n",
      "Iteration 42500 : Loss 4e+03\n",
      "Iteration 42600 : Loss 4e+03\n",
      "Iteration 42700 : Loss 4e+03\n",
      "Iteration 42800 : Loss 4e+03\n",
      "Iteration 42900 : Loss 4e+03\n",
      "Iteration 43000 : Loss 4e+03\n",
      "Iteration 43100 : Loss 4e+03\n",
      "Iteration 43200 : Loss 4e+03\n",
      "Iteration 43300 : Loss 4e+03\n",
      "Iteration 43400 : Loss 4e+03\n",
      "Iteration 43500 : Loss 4e+03\n",
      "Iteration 43600 : Loss 4e+03\n",
      "Iteration 43700 : Loss 4e+03\n",
      "Iteration 43800 : Loss 4e+03\n",
      "Iteration 43900 : Loss 4e+03\n",
      "Iteration 44000 : Loss 4e+03\n",
      "Iteration 44100 : Loss 4e+03\n",
      "Iteration 44200 : Loss 4e+03\n",
      "Iteration 44300 : Loss 4e+03\n",
      "Iteration 44400 : Loss 4e+03\n",
      "Iteration 44500 : Loss 4e+03\n",
      "Iteration 44600 : Loss 4e+03\n",
      "Iteration 44700 : Loss 4e+03\n",
      "Iteration 44800 : Loss 4e+03\n",
      "Iteration 44900 : Loss 4e+03\n",
      "Iteration 45000 : Loss 4e+03\n",
      "Iteration 45100 : Loss 4e+03\n",
      "Iteration 45200 : Loss 4e+03\n",
      "Iteration 45300 : Loss 4e+03\n",
      "Iteration 45400 : Loss 4e+03\n",
      "Iteration 45500 : Loss 4e+03\n",
      "Iteration 45600 : Loss 4e+03\n",
      "Iteration 45700 : Loss 4e+03\n",
      "Iteration 45800 : Loss 4e+03\n",
      "Iteration 45900 : Loss 4e+03\n",
      "Iteration 46000 : Loss 4e+03\n",
      "Iteration 46100 : Loss 4e+03\n",
      "Iteration 46200 : Loss 4e+03\n",
      "Iteration 46300 : Loss 4e+03\n",
      "Iteration 46400 : Loss 4e+03\n",
      "Iteration 46500 : Loss 4e+03\n",
      "Iteration 46600 : Loss 4e+03\n",
      "Iteration 46700 : Loss 4e+03\n",
      "Iteration 46800 : Loss 4e+03\n",
      "Iteration 46900 : Loss 4e+03\n",
      "Iteration 47000 : Loss 4e+03\n",
      "Iteration 47100 : Loss 4e+03\n",
      "Iteration 47200 : Loss 4e+03\n",
      "Iteration 47300 : Loss 4e+03\n",
      "Iteration 47400 : Loss 4e+03\n",
      "Iteration 47500 : Loss 4e+03\n",
      "Iteration 47600 : Loss 4e+03\n",
      "Iteration 47700 : Loss 4e+03\n",
      "Iteration 47800 : Loss 4e+03\n",
      "Iteration 47900 : Loss 4e+03\n",
      "Iteration 48000 : Loss 4e+03\n",
      "Iteration 48100 : Loss 4e+03\n",
      "Iteration 48200 : Loss 4e+03\n",
      "Iteration 48300 : Loss 4e+03\n",
      "Iteration 48400 : Loss 4e+03\n",
      "Iteration 48500 : Loss 4e+03\n",
      "Iteration 48600 : Loss 4e+03\n",
      "Iteration 48700 : Loss 4e+03\n",
      "Iteration 48800 : Loss 4e+03\n",
      "Iteration 48900 : Loss 4e+03\n",
      "Iteration 49000 : Loss 4e+03\n",
      "Iteration 49100 : Loss 4e+03\n",
      "Iteration 49200 : Loss 4e+03\n",
      "Iteration 49300 : Loss 4e+03\n",
      "Iteration 49400 : Loss 4e+03\n",
      "Iteration 49500 : Loss 4e+03\n",
      "Iteration 49600 : Loss 4e+03\n",
      "Iteration 49700 : Loss 4e+03\n",
      "Iteration 49800 : Loss 4e+03\n",
      "Iteration 49900 : Loss 4e+03\n",
      "Iteration 50000 : Loss 4e+03\n"
     ]
    }
   ],
   "source": [
    "losses = []\n",
    "for i in range(1, 50001):\n",
    "    dW, db = gradient(X_train,W , b, y_train)\n",
    "    W -= LEARNING_RATE * dW\n",
    "    b -= LEARNING_RATE * db\n",
    "    L = loss(X_train, W, b, y_train)\n",
    "    losses.append(L)\n",
    "    if i % 100 == 0:\n",
    "        print(f'Iteration {i} : Loss {L:0.1}')"
   ]
  },
  {
   "cell_type": "code",
   "execution_count": 125,
   "id": "825bc019",
   "metadata": {},
   "outputs": [
    {
     "data": {
      "image/png": "[encoded data removed]",
      "text/plain": [
       "<Figure size 432x288 with 1 Axes>"
      ]
     },
     "metadata": {
      "needs_background": "light"
     },
     "output_type": "display_data"
    }
   ],
   "source": [
    "\n",
    "plt.plot(losses)\n",
    "plt.show()"
   ]
  },
  {
   "cell_type": "markdown",
   "id": "c420f21f",
   "metadata": {},
   "source": [
    "### (10) test 데이터에 대한 성능 확인하기"
   ]
  },
  {
   "cell_type": "code",
   "execution_count": 126,
   "id": "ad379481",
   "metadata": {},
   "outputs": [
    {
     "data": {
      "text/plain": [
       "3503.1161087091727"
      ]
     },
     "execution_count": 126,
     "metadata": {},
     "output_type": "execute_result"
    }
   ],
   "source": [
    "## 테스트 성능 확인\n",
    "test_preds = model(X_test, W, b)\n",
    "mse = MSE(test_preds, y_test)\n",
    "mse"
   ]
  },
  {
   "cell_type": "markdown",
   "id": "f6013694",
   "metadata": {},
   "source": [
    "### (11) 정답 데이터와 예측한 데이터 시각화하기"
   ]
  },
  {
   "cell_type": "code",
   "execution_count": 27,
   "id": "c2caa2c2",
   "metadata": {},
   "outputs": [
    {
     "data": {
      "image/png": "[encoded data removed]",
      "text/plain": [
       "<Figure size 432x288 with 1 Axes>"
      ]
     },
     "metadata": {
      "needs_background": "light"
     },
     "output_type": "display_data"
    }
   ],
   "source": [
    "plt.scatter(X_test[:, 0], y_test, label='real')\n",
    "plt.scatter(X_test[:, 0], test_preds, label='prediction')\n",
    "plt.legend()\n",
    "plt.show()\n"
   ]
  },
  {
   "cell_type": "code",
   "execution_count": 28,
   "id": "ea6432f3",
   "metadata": {},
   "outputs": [
    {
     "data": {
      "image/png": "[encoded data removed]",
      "text/plain": [
       "<Figure size 432x288 with 1 Axes>"
      ]
     },
     "metadata": {
      "needs_background": "light"
     },
     "output_type": "display_data"
    }
   ],
   "source": [
    "train_preds = model(X_train, W, b)\n",
    "\n",
    "plt.scatter(X_train[:, 0], y_train, label='real')\n",
    "plt.scatter(X_train[:, 0], train_preds, label='prediction')\n",
    "plt.legend()\n",
    "plt.title('Train')\n",
    "plt.show()\n"
   ]
  },
  {
   "cell_type": "markdown",
   "id": "b6c8fb5e",
   "metadata": {},
   "source": [
    "### 성능 향상\n"
   ]
  },
  {
   "cell_type": "code",
   "execution_count": 46,
   "id": "641c9566",
   "metadata": {},
   "outputs": [
    {
     "data": {
      "text/plain": [
       "(353, 10)"
      ]
     },
     "execution_count": 46,
     "metadata": {},
     "output_type": "execute_result"
    }
   ],
   "source": [
    "X_train.shape"
   ]
  },
  {
   "cell_type": "code",
   "execution_count": 47,
   "id": "169e5ab2",
   "metadata": {},
   "outputs": [
    {
     "data": {
      "text/plain": [
       "(353, 11)"
      ]
     },
     "execution_count": 47,
     "metadata": {},
     "output_type": "execute_result"
    }
   ],
   "source": [
    "total = np.hstack((y_train.reshape(-1, 1), X_train))\n",
    "total.shape"
   ]
  },
  {
   "cell_type": "code",
   "execution_count": 71,
   "id": "308b834e",
   "metadata": {},
   "outputs": [
    {
     "data": {
      "text/html": [
       "<div>\n",
       "<style scoped>\n",
       "    .dataframe tbody tr th:only-of-type {\n",
       "        vertical-align: middle;\n",
       "    }\n",
       "\n",
       "    .dataframe tbody tr th {\n",
       "        vertical-align: top;\n",
       "    }\n",
       "\n",
       "    .dataframe thead th {\n",
       "        text-align: right;\n",
       "    }\n",
       "</style>\n",
       "<table border=\"1\" class=\"dataframe\">\n",
       "  <thead>\n",
       "    <tr style=\"text-align: right;\">\n",
       "      <th></th>\n",
       "      <th>0</th>\n",
       "      <th>1</th>\n",
       "      <th>2</th>\n",
       "      <th>3</th>\n",
       "      <th>4</th>\n",
       "      <th>5</th>\n",
       "      <th>6</th>\n",
       "      <th>7</th>\n",
       "      <th>8</th>\n",
       "      <th>9</th>\n",
       "      <th>10</th>\n",
       "    </tr>\n",
       "  </thead>\n",
       "  <tbody>\n",
       "    <tr>\n",
       "      <th>0</th>\n",
       "      <td>144.0</td>\n",
       "      <td>0.070769</td>\n",
       "      <td>0.050680</td>\n",
       "      <td>0.012117</td>\n",
       "      <td>0.056301</td>\n",
       "      <td>0.034206</td>\n",
       "      <td>0.049416</td>\n",
       "      <td>-0.039719</td>\n",
       "      <td>0.034309</td>\n",
       "      <td>0.027368</td>\n",
       "      <td>-0.001078</td>\n",
       "    </tr>\n",
       "    <tr>\n",
       "      <th>1</th>\n",
       "      <td>150.0</td>\n",
       "      <td>-0.009147</td>\n",
       "      <td>0.050680</td>\n",
       "      <td>-0.018062</td>\n",
       "      <td>-0.033214</td>\n",
       "      <td>-0.020832</td>\n",
       "      <td>0.012152</td>\n",
       "      <td>-0.072854</td>\n",
       "      <td>0.071210</td>\n",
       "      <td>0.000271</td>\n",
       "      <td>0.019633</td>\n",
       "    </tr>\n",
       "    <tr>\n",
       "      <th>2</th>\n",
       "      <td>280.0</td>\n",
       "      <td>0.005383</td>\n",
       "      <td>-0.044642</td>\n",
       "      <td>0.049840</td>\n",
       "      <td>0.097616</td>\n",
       "      <td>-0.015328</td>\n",
       "      <td>-0.016345</td>\n",
       "      <td>-0.006584</td>\n",
       "      <td>-0.002592</td>\n",
       "      <td>0.017037</td>\n",
       "      <td>-0.013504</td>\n",
       "    </tr>\n",
       "    <tr>\n",
       "      <th>3</th>\n",
       "      <td>125.0</td>\n",
       "      <td>-0.027310</td>\n",
       "      <td>-0.044642</td>\n",
       "      <td>-0.035307</td>\n",
       "      <td>-0.029771</td>\n",
       "      <td>-0.056607</td>\n",
       "      <td>-0.058620</td>\n",
       "      <td>0.030232</td>\n",
       "      <td>-0.039493</td>\n",
       "      <td>-0.049868</td>\n",
       "      <td>-0.129483</td>\n",
       "    </tr>\n",
       "    <tr>\n",
       "      <th>4</th>\n",
       "      <td>59.0</td>\n",
       "      <td>-0.023677</td>\n",
       "      <td>-0.044642</td>\n",
       "      <td>-0.065486</td>\n",
       "      <td>-0.081414</td>\n",
       "      <td>-0.038720</td>\n",
       "      <td>-0.053610</td>\n",
       "      <td>0.059685</td>\n",
       "      <td>-0.076395</td>\n",
       "      <td>-0.037128</td>\n",
       "      <td>-0.042499</td>\n",
       "    </tr>\n",
       "  </tbody>\n",
       "</table>\n",
       "</div>"
      ],
      "text/plain": [
       "      0         1         2         3         4         5         6   \\\n",
       "0  144.0  0.070769  0.050680  0.012117  0.056301  0.034206  0.049416   \n",
       "1  150.0 -0.009147  0.050680 -0.018062 -0.033214 -0.020832  0.012152   \n",
       "2  280.0  0.005383 -0.044642  0.049840  0.097616 -0.015328 -0.016345   \n",
       "3  125.0 -0.027310 -0.044642 -0.035307 -0.029771 -0.056607 -0.058620   \n",
       "4   59.0 -0.023677 -0.044642 -0.065486 -0.081414 -0.038720 -0.053610   \n",
       "\n",
       "         7         8         9         10  \n",
       "0 -0.039719  0.034309  0.027368 -0.001078  \n",
       "1 -0.072854  0.071210  0.000271  0.019633  \n",
       "2 -0.006584 -0.002592  0.017037 -0.013504  \n",
       "3  0.030232 -0.039493 -0.049868 -0.129483  \n",
       "4  0.059685 -0.076395 -0.037128 -0.042499  "
      ]
     },
     "execution_count": 71,
     "metadata": {},
     "output_type": "execute_result"
    }
   ],
   "source": [
    "total_df = pd.DataFrame(total)\n",
    "total_df.head()"
   ]
  },
  {
   "cell_type": "code",
   "execution_count": 72,
   "id": "74e98b9b",
   "metadata": {},
   "outputs": [
    {
     "data": {
      "image/png": "[encoded data removed]",
      "text/plain": [
       "<Figure size 720x720 with 2 Axes>"
      ]
     },
     "metadata": {
      "needs_background": "light"
     },
     "output_type": "display_data"
    }
   ],
   "source": [
    "plt.figure(figsize=(10,10))\n",
    "sns.heatmap(total_df.corr())\n",
    "plt.show()"
   ]
  },
  {
   "cell_type": "code",
   "execution_count": 134,
   "id": "7dc388fd",
   "metadata": {},
   "outputs": [
    {
     "data": {
      "text/html": [
       "<div>\n",
       "<style scoped>\n",
       "    .dataframe tbody tr th:only-of-type {\n",
       "        vertical-align: middle;\n",
       "    }\n",
       "\n",
       "    .dataframe tbody tr th {\n",
       "        vertical-align: top;\n",
       "    }\n",
       "\n",
       "    .dataframe thead th {\n",
       "        text-align: right;\n",
       "    }\n",
       "</style>\n",
       "<table border=\"1\" class=\"dataframe\">\n",
       "  <thead>\n",
       "    <tr style=\"text-align: right;\">\n",
       "      <th></th>\n",
       "      <th>0</th>\n",
       "      <th>1</th>\n",
       "      <th>2</th>\n",
       "      <th>3</th>\n",
       "      <th>4</th>\n",
       "      <th>5</th>\n",
       "      <th>6</th>\n",
       "      <th>7</th>\n",
       "      <th>8</th>\n",
       "      <th>9</th>\n",
       "      <th>10</th>\n",
       "    </tr>\n",
       "  </thead>\n",
       "  <tbody>\n",
       "    <tr>\n",
       "      <th>0</th>\n",
       "      <td>1.000000</td>\n",
       "      <td>0.196510</td>\n",
       "      <td>0.007116</td>\n",
       "      <td>0.604751</td>\n",
       "      <td>0.444774</td>\n",
       "      <td>0.199547</td>\n",
       "      <td>0.154922</td>\n",
       "      <td>-0.384000</td>\n",
       "      <td>0.425094</td>\n",
       "      <td>0.552183</td>\n",
       "      <td>0.390363</td>\n",
       "    </tr>\n",
       "    <tr>\n",
       "      <th>1</th>\n",
       "      <td>0.196510</td>\n",
       "      <td>1.000000</td>\n",
       "      <td>0.171161</td>\n",
       "      <td>0.184695</td>\n",
       "      <td>0.314569</td>\n",
       "      <td>0.270283</td>\n",
       "      <td>0.218952</td>\n",
       "      <td>-0.043783</td>\n",
       "      <td>0.180038</td>\n",
       "      <td>0.268426</td>\n",
       "      <td>0.281806</td>\n",
       "    </tr>\n",
       "    <tr>\n",
       "      <th>2</th>\n",
       "      <td>0.007116</td>\n",
       "      <td>0.171161</td>\n",
       "      <td>1.000000</td>\n",
       "      <td>0.033934</td>\n",
       "      <td>0.179283</td>\n",
       "      <td>0.021069</td>\n",
       "      <td>0.120205</td>\n",
       "      <td>-0.355094</td>\n",
       "      <td>0.320490</td>\n",
       "      <td>0.113189</td>\n",
       "      <td>0.165951</td>\n",
       "    </tr>\n",
       "    <tr>\n",
       "      <th>3</th>\n",
       "      <td>0.604751</td>\n",
       "      <td>0.184695</td>\n",
       "      <td>0.033934</td>\n",
       "      <td>1.000000</td>\n",
       "      <td>0.394313</td>\n",
       "      <td>0.266467</td>\n",
       "      <td>0.261560</td>\n",
       "      <td>-0.354655</td>\n",
       "      <td>0.430974</td>\n",
       "      <td>0.468473</td>\n",
       "      <td>0.404928</td>\n",
       "    </tr>\n",
       "    <tr>\n",
       "      <th>4</th>\n",
       "      <td>0.444774</td>\n",
       "      <td>0.314569</td>\n",
       "      <td>0.179283</td>\n",
       "      <td>0.394313</td>\n",
       "      <td>1.000000</td>\n",
       "      <td>0.239986</td>\n",
       "      <td>0.161468</td>\n",
       "      <td>-0.120826</td>\n",
       "      <td>0.212790</td>\n",
       "      <td>0.375297</td>\n",
       "      <td>0.374646</td>\n",
       "    </tr>\n",
       "    <tr>\n",
       "      <th>5</th>\n",
       "      <td>0.199547</td>\n",
       "      <td>0.270283</td>\n",
       "      <td>0.021069</td>\n",
       "      <td>0.266467</td>\n",
       "      <td>0.239986</td>\n",
       "      <td>1.000000</td>\n",
       "      <td>0.891063</td>\n",
       "      <td>0.053003</td>\n",
       "      <td>0.546840</td>\n",
       "      <td>0.528539</td>\n",
       "      <td>0.330773</td>\n",
       "    </tr>\n",
       "    <tr>\n",
       "      <th>6</th>\n",
       "      <td>0.154922</td>\n",
       "      <td>0.218952</td>\n",
       "      <td>0.120205</td>\n",
       "      <td>0.261560</td>\n",
       "      <td>0.161468</td>\n",
       "      <td>0.891063</td>\n",
       "      <td>1.000000</td>\n",
       "      <td>-0.190658</td>\n",
       "      <td>0.654675</td>\n",
       "      <td>0.307134</td>\n",
       "      <td>0.293291</td>\n",
       "    </tr>\n",
       "    <tr>\n",
       "      <th>7</th>\n",
       "      <td>-0.384000</td>\n",
       "      <td>-0.043783</td>\n",
       "      <td>-0.355094</td>\n",
       "      <td>-0.354655</td>\n",
       "      <td>-0.120826</td>\n",
       "      <td>0.053003</td>\n",
       "      <td>-0.190658</td>\n",
       "      <td>1.000000</td>\n",
       "      <td>-0.736685</td>\n",
       "      <td>-0.372437</td>\n",
       "      <td>-0.288236</td>\n",
       "    </tr>\n",
       "    <tr>\n",
       "      <th>8</th>\n",
       "      <td>0.425094</td>\n",
       "      <td>0.180038</td>\n",
       "      <td>0.320490</td>\n",
       "      <td>0.430974</td>\n",
       "      <td>0.212790</td>\n",
       "      <td>0.546840</td>\n",
       "      <td>0.654675</td>\n",
       "      <td>-0.736685</td>\n",
       "      <td>1.000000</td>\n",
       "      <td>0.613471</td>\n",
       "      <td>0.431352</td>\n",
       "    </tr>\n",
       "    <tr>\n",
       "      <th>9</th>\n",
       "      <td>0.552183</td>\n",
       "      <td>0.268426</td>\n",
       "      <td>0.113189</td>\n",
       "      <td>0.468473</td>\n",
       "      <td>0.375297</td>\n",
       "      <td>0.528539</td>\n",
       "      <td>0.307134</td>\n",
       "      <td>-0.372437</td>\n",
       "      <td>0.613471</td>\n",
       "      <td>1.000000</td>\n",
       "      <td>0.478967</td>\n",
       "    </tr>\n",
       "    <tr>\n",
       "      <th>10</th>\n",
       "      <td>0.390363</td>\n",
       "      <td>0.281806</td>\n",
       "      <td>0.165951</td>\n",
       "      <td>0.404928</td>\n",
       "      <td>0.374646</td>\n",
       "      <td>0.330773</td>\n",
       "      <td>0.293291</td>\n",
       "      <td>-0.288236</td>\n",
       "      <td>0.431352</td>\n",
       "      <td>0.478967</td>\n",
       "      <td>1.000000</td>\n",
       "    </tr>\n",
       "  </tbody>\n",
       "</table>\n",
       "</div>"
      ],
      "text/plain": [
       "          0         1         2         3         4         5         6   \\\n",
       "0   1.000000  0.196510  0.007116  0.604751  0.444774  0.199547  0.154922   \n",
       "1   0.196510  1.000000  0.171161  0.184695  0.314569  0.270283  0.218952   \n",
       "2   0.007116  0.171161  1.000000  0.033934  0.179283  0.021069  0.120205   \n",
       "3   0.604751  0.184695  0.033934  1.000000  0.394313  0.266467  0.261560   \n",
       "4   0.444774  0.314569  0.179283  0.394313  1.000000  0.239986  0.161468   \n",
       "5   0.199547  0.270283  0.021069  0.266467  0.239986  1.000000  0.891063   \n",
       "6   0.154922  0.218952  0.120205  0.261560  0.161468  0.891063  1.000000   \n",
       "7  -0.384000 -0.043783 -0.355094 -0.354655 -0.120826  0.053003 -0.190658   \n",
       "8   0.425094  0.180038  0.320490  0.430974  0.212790  0.546840  0.654675   \n",
       "9   0.552183  0.268426  0.113189  0.468473  0.375297  0.528539  0.307134   \n",
       "10  0.390363  0.281806  0.165951  0.404928  0.374646  0.330773  0.293291   \n",
       "\n",
       "          7         8         9         10  \n",
       "0  -0.384000  0.425094  0.552183  0.390363  \n",
       "1  -0.043783  0.180038  0.268426  0.281806  \n",
       "2  -0.355094  0.320490  0.113189  0.165951  \n",
       "3  -0.354655  0.430974  0.468473  0.404928  \n",
       "4  -0.120826  0.212790  0.375297  0.374646  \n",
       "5   0.053003  0.546840  0.528539  0.330773  \n",
       "6  -0.190658  0.654675  0.307134  0.293291  \n",
       "7   1.000000 -0.736685 -0.372437 -0.288236  \n",
       "8  -0.736685  1.000000  0.613471  0.431352  \n",
       "9  -0.372437  0.613471  1.000000  0.478967  \n",
       "10 -0.288236  0.431352  0.478967  1.000000  "
      ]
     },
     "execution_count": 134,
     "metadata": {},
     "output_type": "execute_result"
    }
   ],
   "source": [
    "total_corr = total_df.corr()\n",
    "total_corr"
   ]
  },
  {
   "cell_type": "code",
   "execution_count": 127,
   "id": "7cb70208",
   "metadata": {},
   "outputs": [
    {
     "data": {
      "text/plain": [
       "Int64Index([3, 4, 7, 8, 9, 10], dtype='int64')"
      ]
     },
     "execution_count": 127,
     "metadata": {},
     "output_type": "execute_result"
    }
   ],
   "source": [
    "corr_criteria = 0.2\n",
    "\n",
    "sel_index = total_corr.columns[1:][abs(total_corr.loc[0, 1:])>corr_criteria]\n",
    "sel_index"
   ]
  },
  {
   "cell_type": "code",
   "execution_count": 128,
   "id": "ee1222bb",
   "metadata": {},
   "outputs": [
    {
     "data": {
      "text/plain": [
       "[2, 3, 6, 7, 8, 9]"
      ]
     },
     "execution_count": 128,
     "metadata": {},
     "output_type": "execute_result"
    }
   ],
   "source": [
    "sel_cols = [i-1 for i in list(sel_index)]\n",
    "sel_cols"
   ]
  },
  {
   "cell_type": "code",
   "execution_count": 129,
   "id": "4e2a4c1c",
   "metadata": {},
   "outputs": [
    {
     "data": {
      "text/plain": [
       "(353, 6)"
      ]
     },
     "execution_count": 129,
     "metadata": {},
     "output_type": "execute_result"
    }
   ],
   "source": [
    "X_train_sel = X_train[:, sel_cols]\n",
    "X_train_sel.shape"
   ]
  },
  {
   "cell_type": "code",
   "execution_count": 135,
   "id": "45ed0f77",
   "metadata": {},
   "outputs": [
    {
     "name": "stdout",
     "output_type": "stream",
     "text": [
      "Iteration 10000 : Loss 5e+03\n",
      "Iteration 20000 : Loss 5e+03\n",
      "Iteration 30000 : Loss 5e+03\n",
      "Iteration 40000 : Loss 4e+03\n",
      "Iteration 50000 : Loss 4e+03\n",
      "Iteration 60000 : Loss 4e+03\n",
      "Iteration 70000 : Loss 4e+03\n",
      "Iteration 80000 : Loss 4e+03\n",
      "Iteration 90000 : Loss 4e+03\n",
      "Iteration 100000 : Loss 3e+03\n",
      "Iteration 110000 : Loss 3e+03\n",
      "Iteration 120000 : Loss 3e+03\n",
      "Iteration 130000 : Loss 3e+03\n",
      "Iteration 140000 : Loss 3e+03\n",
      "Iteration 150000 : Loss 3e+03\n"
     ]
    }
   ],
   "source": [
    "# 모델링\n",
    "LEARNING_RATE = 0.001\n",
    "col_n = X_train_sel.shape[1]\n",
    "W = np.random.rand(col_n)\n",
    "b = np.random.rand()\n",
    "\n",
    "losses = []\n",
    "for i in range(1, 150001):\n",
    "    dW, db = gradient(X_train_sel, W , b, y_train)\n",
    "    W -= LEARNING_RATE * dW\n",
    "    b -= LEARNING_RATE * db\n",
    "    L = loss(X_train_sel, W, b, y_train)\n",
    "    losses.append(L)\n",
    "    if i % 10000 == 0:\n",
    "        print(f'Iteration {i} : Loss {L:0.1}')"
   ]
  },
  {
   "cell_type": "code",
   "execution_count": 136,
   "id": "c3e009fe",
   "metadata": {},
   "outputs": [
    {
     "data": {
      "image/png": "[encoded data removed]",
      "text/plain": [
       "<Figure size 432x288 with 1 Axes>"
      ]
     },
     "metadata": {
      "needs_background": "light"
     },
     "output_type": "display_data"
    }
   ],
   "source": [
    "\n",
    "plt.plot(losses)\n",
    "plt.show()"
   ]
  },
  {
   "cell_type": "code",
   "execution_count": 137,
   "id": "4f3658ca",
   "metadata": {},
   "outputs": [
    {
     "data": {
      "text/plain": [
       "2970.3808273690493"
      ]
     },
     "execution_count": 137,
     "metadata": {},
     "output_type": "execute_result"
    }
   ],
   "source": [
    "X_test_sel = X_test[:, sel_cols]\n",
    "\n",
    "test_preds = model(X_test_sel, W, b)\n",
    "mse = MSE(test_preds, y_test)\n",
    "mse"
   ]
  },
  {
   "cell_type": "code",
   "execution_count": 138,
   "id": "df258d59",
   "metadata": {},
   "outputs": [
    {
     "data": {
      "image/png": "[encoded data removed]",
      "text/plain": [
       "<Figure size 432x288 with 1 Axes>"
      ]
     },
     "metadata": {
      "needs_background": "light"
     },
     "output_type": "display_data"
    }
   ],
   "source": [
    "plt.scatter(X_test_sel[:, 0], y_test, label='real')\n",
    "plt.scatter(X_test_sel[:, 0], test_preds, label='prediction')\n",
    "plt.legend()\n",
    "plt.show()"
   ]
  },
  {
   "cell_type": "code",
   "execution_count": null,
   "id": "af4678d8",
   "metadata": {},
   "outputs": [],
   "source": []
  }
 ],
 "metadata": {
  "kernelspec": {
   "display_name": "Python 3 (ipykernel)",
   "language": "python",
   "name": "python3"
  },
  "language_info": {
   "codemirror_mode": {
    "name": "ipython",
    "version": 3
   },
   "file_extension": ".py",
   "mimetype": "text/x-python",
   "name": "python",
   "nbconvert_exporter": "python",
   "pygments_lexer": "ipython3",
   "version": "3.9.7"
  }
 },
 "nbformat": 4,
 "nbformat_minor": 5
}
